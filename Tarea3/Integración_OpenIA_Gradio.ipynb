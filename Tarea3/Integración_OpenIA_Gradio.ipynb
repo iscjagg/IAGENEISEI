{
  "nbformat": 4,
  "nbformat_minor": 0,
  "metadata": {
    "colab": {
      "provenance": []
    },
    "kernelspec": {
      "name": "python3",
      "display_name": "Python 3"
    },
    "language_info": {
      "name": "python"
    }
  },
  "cells": [
    {
      "cell_type": "markdown",
      "source": [
        "# Tarea 3 Viculacion modelo con Gradio"
      ],
      "metadata": {
        "id": "k6uaTJOpO1zp"
      }
    },
    {
      "cell_type": "code",
      "source": [
        "# Instalación de librerías\n",
        "%%capture --no-stderr\n",
        "##!pip install openai  al parecer la politicas cambiaron en la version 1 de openai hay que hacer un downgrade\n",
        "!pip install openai==0.28\n",
        "!pip install datasets evaluate transformers[sentencepiece]\n",
        "!pip install gradio"
      ],
      "metadata": {
        "id": "C3jYZyWePXRI"
      },
      "execution_count": 1,
      "outputs": []
    },
    {
      "cell_type": "code",
      "source": [
        "import openai\n",
        "import getpass\n",
        "import gradio as gr\n"
      ],
      "metadata": {
        "id": "BIsT90-0Pmj_"
      },
      "execution_count": 2,
      "outputs": []
    },
    {
      "cell_type": "code",
      "source": [
        "# Configura tu clave de API de OpenAI\n",
        "openai.api_key = getpass.getpass() #obtenemos la Api key no pude hacer funcionar\n"
      ],
      "metadata": {
        "colab": {
          "base_uri": "https://localhost:8080/"
        },
        "id": "fM7FfW2FPpud",
        "outputId": "c236250a-5feb-4c50-f662-fed5b6c994eb"
      },
      "execution_count": 3,
      "outputs": [
        {
          "name": "stdout",
          "output_type": "stream",
          "text": [
            "··········\n"
          ]
        }
      ]
    },
    {
      "cell_type": "markdown",
      "source": [
        "### Prueba de generacin de Imagen a partir de un texto"
      ],
      "metadata": {
        "id": "hA3oQrpVR1G3"
      }
    },
    {
      "cell_type": "code",
      "source": [
        "# Función para generar la imagen con OpenAI\n",
        "def generar_imagen(prompt):\n",
        "    response = openai.Image.create(\n",
        "        prompt=prompt,\n",
        "        n=1,\n",
        "        size=\"512x512\"\n",
        "\n",
        "    )\n",
        "    image_url = response['data'][0]['url']\n",
        "    return image_url\n",
        "\n",
        "# Crear la interfaz de Gradio\n",
        "interface = gr.Interface(\n",
        "    fn=generar_imagen,\n",
        "    inputs=gr.Textbox(label=\"Descripción de la imagen\"),\n",
        "    outputs=gr.Image(label=\"Imagen generada\"),\n",
        "    title=\"Generador de Imágenes con OpenAI y radio de Julio Garcia\",\n",
        "    description=\"Introduce una descripción y generaré una imagen para ti:\"\n",
        ")\n",
        "\n",
        "# Ejecutar la interfaz\n",
        "interface.launch(debug=True) # deje el debg para que me muetre los errores en la ejecución"
      ],
      "metadata": {
        "colab": {
          "base_uri": "https://localhost:8080/",
          "height": 680
        },
        "id": "3zPu-3lRP231",
        "outputId": "4b027528-0409-45a5-ed72-a4fb2dd74f63"
      },
      "execution_count": 5,
      "outputs": [
        {
          "output_type": "stream",
          "name": "stdout",
          "text": [
            "Setting queue=True in a Colab notebook requires sharing enabled. Setting `share=True` (you can turn this off by setting `share=False` in `launch()` explicitly).\n",
            "\n",
            "Colab notebook detected. This cell will run indefinitely so that you can see errors and logs. To turn off, set debug=False in launch().\n",
            "Running on public URL: https://2f076a02747e410de0.gradio.live\n",
            "\n",
            "This share link expires in 72 hours. For free permanent hosting and GPU upgrades, run `gradio deploy` from Terminal to deploy to Spaces (https://huggingface.co/spaces)\n"
          ]
        },
        {
          "output_type": "display_data",
          "data": {
            "text/plain": [
              "<IPython.core.display.HTML object>"
            ],
            "text/html": [
              "<div><iframe src=\"https://2f076a02747e410de0.gradio.live\" width=\"100%\" height=\"500\" allow=\"autoplay; camera; microphone; clipboard-read; clipboard-write;\" frameborder=\"0\" allowfullscreen></iframe></div>"
            ]
          },
          "metadata": {}
        },
        {
          "output_type": "stream",
          "name": "stdout",
          "text": [
            "Keyboard interruption in main thread... closing server.\n",
            "Killing tunnel 127.0.0.1:7860 <> https://2f076a02747e410de0.gradio.live\n"
          ]
        },
        {
          "output_type": "execute_result",
          "data": {
            "text/plain": []
          },
          "metadata": {},
          "execution_count": 5
        }
      ]
    },
    {
      "cell_type": "code",
      "source": [],
      "metadata": {
        "id": "mPef4xxwS1MO"
      },
      "execution_count": null,
      "outputs": []
    }
  ]
}
